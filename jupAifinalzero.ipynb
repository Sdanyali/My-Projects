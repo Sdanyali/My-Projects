{
 "cells": [
  {
   "cell_type": "markdown",
   "id": "f50e4c40",
   "metadata": {},
   "source": [
    "## NLP task"
   ]
  },
  {
   "cell_type": "markdown",
   "id": "c8368887",
   "metadata": {},
   "source": [
    "### Import needed packages "
   ]
  },
  {
   "cell_type": "code",
   "execution_count": 1,
   "id": "73ad5265",
   "metadata": {},
   "outputs": [],
   "source": [
    "from transformers import pipeline\n",
    "import pandas as pd\n",
    "from tqdm import tqdm\n",
    "import warnings\n",
    "import matplotlib.pyplot as plt\n",
    "import seaborn as sns\n",
    "import os\n",
    "import subprocess\n",
    "import numpy as np\n",
    "import matplotlib.pyplot as plt\n",
    "from transformers import PegasusForConditionalGeneration, PegasusTokenizer\n",
    "from transformers import BartForConditionalGeneration, BartTokenizer\n",
    "import torch\n",
    "warnings.filterwarnings(\"ignore\")"
   ]
  },
  {
   "cell_type": "markdown",
   "id": "954f6d89",
   "metadata": {},
   "source": [
    "### Read the file via pandas"
   ]
  },
  {
   "cell_type": "code",
   "execution_count": 2,
   "id": "3181b96a",
   "metadata": {},
   "outputs": [],
   "source": [
    "excel_file_path = f'C:/Users/sdany/Desktop/pilot project/pilotprtfinal.xlsx'\n",
    "df = pd.read_excel(excel_file_path)"
   ]
  },
  {
   "cell_type": "code",
   "execution_count": 3,
   "id": "5a69147b",
   "metadata": {
    "scrolled": true
   },
   "outputs": [
    {
     "data": {
      "text/html": [
       "<div>\n",
       "<style scoped>\n",
       "    .dataframe tbody tr th:only-of-type {\n",
       "        vertical-align: middle;\n",
       "    }\n",
       "\n",
       "    .dataframe tbody tr th {\n",
       "        vertical-align: top;\n",
       "    }\n",
       "\n",
       "    .dataframe thead th {\n",
       "        text-align: right;\n",
       "    }\n",
       "</style>\n",
       "<table border=\"1\" class=\"dataframe\">\n",
       "  <thead>\n",
       "    <tr style=\"text-align: right;\">\n",
       "      <th></th>\n",
       "      <th>Solicitation Year</th>\n",
       "      <th>Award Year</th>\n",
       "      <th>Award Amount</th>\n",
       "      <th>DUNS</th>\n",
       "      <th>Number Employees</th>\n",
       "    </tr>\n",
       "  </thead>\n",
       "  <tbody>\n",
       "    <tr>\n",
       "      <th>count</th>\n",
       "      <td>1615.000000</td>\n",
       "      <td>1615.000000</td>\n",
       "      <td>1.615000e+03</td>\n",
       "      <td>1.593000e+03</td>\n",
       "      <td>1605.000000</td>\n",
       "    </tr>\n",
       "    <tr>\n",
       "      <th>mean</th>\n",
       "      <td>2018.022910</td>\n",
       "      <td>2019.427864</td>\n",
       "      <td>5.847700e+05</td>\n",
       "      <td>2.596446e+08</td>\n",
       "      <td>50.300312</td>\n",
       "    </tr>\n",
       "    <tr>\n",
       "      <th>std</th>\n",
       "      <td>7.252831</td>\n",
       "      <td>2.684268</td>\n",
       "      <td>1.555689e+06</td>\n",
       "      <td>3.155795e+08</td>\n",
       "      <td>76.233102</td>\n",
       "    </tr>\n",
       "    <tr>\n",
       "      <th>min</th>\n",
       "      <td>1900.000000</td>\n",
       "      <td>2014.000000</td>\n",
       "      <td>2.490000e+04</td>\n",
       "      <td>0.000000e+00</td>\n",
       "      <td>0.000000</td>\n",
       "    </tr>\n",
       "    <tr>\n",
       "      <th>25%</th>\n",
       "      <td>2016.000000</td>\n",
       "      <td>2017.000000</td>\n",
       "      <td>1.398605e+05</td>\n",
       "      <td>7.943749e+07</td>\n",
       "      <td>6.000000</td>\n",
       "    </tr>\n",
       "    <tr>\n",
       "      <th>50%</th>\n",
       "      <td>2019.000000</td>\n",
       "      <td>2020.000000</td>\n",
       "      <td>1.500000e+05</td>\n",
       "      <td>1.169762e+08</td>\n",
       "      <td>17.000000</td>\n",
       "    </tr>\n",
       "    <tr>\n",
       "      <th>75%</th>\n",
       "      <td>2021.000000</td>\n",
       "      <td>2022.000000</td>\n",
       "      <td>7.499998e+05</td>\n",
       "      <td>1.884658e+08</td>\n",
       "      <td>57.000000</td>\n",
       "    </tr>\n",
       "    <tr>\n",
       "      <th>max</th>\n",
       "      <td>2023.000000</td>\n",
       "      <td>2023.000000</td>\n",
       "      <td>5.580000e+07</td>\n",
       "      <td>9.698515e+08</td>\n",
       "      <td>468.000000</td>\n",
       "    </tr>\n",
       "  </tbody>\n",
       "</table>\n",
       "</div>"
      ],
      "text/plain": [
       "       Solicitation Year   Award Year  Award Amount          DUNS  \\\n",
       "count        1615.000000  1615.000000  1.615000e+03  1.593000e+03   \n",
       "mean         2018.022910  2019.427864  5.847700e+05  2.596446e+08   \n",
       "std             7.252831     2.684268  1.555689e+06  3.155795e+08   \n",
       "min          1900.000000  2014.000000  2.490000e+04  0.000000e+00   \n",
       "25%          2016.000000  2017.000000  1.398605e+05  7.943749e+07   \n",
       "50%          2019.000000  2020.000000  1.500000e+05  1.169762e+08   \n",
       "75%          2021.000000  2022.000000  7.499998e+05  1.884658e+08   \n",
       "max          2023.000000  2023.000000  5.580000e+07  9.698515e+08   \n",
       "\n",
       "       Number Employees  \n",
       "count       1605.000000  \n",
       "mean          50.300312  \n",
       "std           76.233102  \n",
       "min            0.000000  \n",
       "25%            6.000000  \n",
       "50%           17.000000  \n",
       "75%           57.000000  \n",
       "max          468.000000  "
      ]
     },
     "execution_count": 3,
     "metadata": {},
     "output_type": "execute_result"
    }
   ],
   "source": [
    "df.describe()"
   ]
  },
  {
   "cell_type": "code",
   "execution_count": 4,
   "id": "16e6c4bc",
   "metadata": {},
   "outputs": [],
   "source": [
    "## Labels and preprocess the text "
   ]
  },
  {
   "cell_type": "code",
   "execution_count": 5,
   "id": "0d9cd12a",
   "metadata": {},
   "outputs": [],
   "source": [
    "def change_labels(labels):\n",
    "    label_map = {\n",
    "        'Propulsion, motor, thruster, propplant': 'propulsion', \n",
    "        'Guidance, navigation, control, Attitude Determination': 'ACDS & GNC', \n",
    "        'System & Integration': 'System & Integration', \n",
    "        'Software': 'Software', \n",
    "        'Telecommunications': 'Communications', \n",
    "        'Sensors': 'Sensors',\n",
    "        'Structure, Material & Mechanics': 'Mechanics',  \n",
    "        'Command and Data Handling': 'C & DH',  \n",
    "        'Power, energy': 'Power', \n",
    "        'Telemetry, Tracking and Command': 'TT & C'  \n",
    "    }\n",
    "    return label_map.get(labels, labels)\n",
    "\n",
    "candidate_labels = [\n",
    "    'Propulsion, motor, thruster, propplant', \n",
    "    'Guidance, navigation, control, Attitude Determination',\n",
    "    'System & Integration',\n",
    "    'Software', \n",
    "    'Telecommunications', \n",
    "    'Sensors',\n",
    "    'Structure, Material & Mechanics',\n",
    "    'Command and Data Handling', \n",
    "    'Power, energy', \n",
    "    'Telemetry, Tracking and Command'\n",
    "]\n",
    "\n",
    "# Function to preprocess text\n",
    "def preprocess_text(text):\n",
    "    if not isinstance(text, str):\n",
    "        text = str(text)\n",
    "    text = text.lower()\n",
    "    return text\n",
    "\n",
    "df['Abstract'] = df['Abstract'].apply(preprocess_text)"
   ]
  },
  {
   "cell_type": "markdown",
   "id": "fa8ab1b1",
   "metadata": {},
   "source": [
    "#### Model using and defineing tasks : two model for two task : Summa.. & Classi..."
   ]
  },
  {
   "cell_type": "code",
   "execution_count": 6,
   "id": "d9a82d08",
   "metadata": {
    "scrolled": false
   },
   "outputs": [
    {
     "name": "stdout",
     "output_type": "stream",
     "text": [
      "WARNING:tensorflow:From C:\\Users\\sdany\\AppData\\Local\\Programs\\Python\\Python311\\Lib\\site-packages\\tf_keras\\src\\losses.py:2976: The name tf.losses.sparse_softmax_cross_entropy is deprecated. Please use tf.compat.v1.losses.sparse_softmax_cross_entropy instead.\n",
      "\n"
     ]
    }
   ],
   "source": [
    "task = \"zero-shot-classification\"\n",
    "modelId = \"facebook/bart-large-mnli\"\n",
    "classifier = pipeline(task=task, model=modelId)\n",
    "#summarizer = pipeline(task=\"summarization\", model=\"sshleifer/distilbart-cnn-12-6\")"
   ]
  },
  {
   "cell_type": "markdown",
   "id": "dfdf11a6",
   "metadata": {},
   "source": [
    "### Process part "
   ]
  },
  {
   "cell_type": "code",
   "execution_count": 7,
   "id": "85023f09",
   "metadata": {},
   "outputs": [],
   "source": [
    "results_summarization = []\n",
    "results_classification = []\n",
    "predicted_labels = []"
   ]
  },
  {
   "cell_type": "markdown",
   "id": "7c29ddcc",
   "metadata": {},
   "source": [
    "#### Summarization"
   ]
  },
  {
   "cell_type": "code",
   "execution_count": 8,
   "id": "be5bb9d3",
   "metadata": {
    "scrolled": false
   },
   "outputs": [
    {
     "name": "stderr",
     "output_type": "stream",
     "text": [
      "[nltk_data] Error loading stopwords: <urlopen error [WinError 10054]\n",
      "[nltk_data]     An existing connection was forcibly closed by the\n",
      "[nltk_data]     remote host>\n",
      "[nltk_data] Downloading package punkt to\n",
      "[nltk_data]     C:\\Users\\sdany\\AppData\\Roaming\\nltk_data...\n",
      "[nltk_data]   Package punkt is already up-to-date!\n",
      "Summarizing: 100%|███████████████████████████████████████████████████████████████| 1615/1615 [00:01<00:00, 1245.42it/s]\n"
     ]
    }
   ],
   "source": [
    "import nltk\n",
    "from nltk.corpus import stopwords\n",
    "from nltk.tokenize import word_tokenize, sent_tokenize\n",
    "from tqdm import tqdm\n",
    "\n",
    "# Download necessary NLTK data\n",
    "nltk.download('stopwords')\n",
    "nltk.download('punkt')\n",
    "\n",
    "# Initialize stopwords set\n",
    "stopWords = set(stopwords.words(\"english\"))\n",
    "\n",
    "\n",
    "# Iterate through each abstract in the DataFrame\n",
    "for abstract in tqdm(df['Abstract'], desc=\"Summarizing\"):\n",
    "    if len(word_tokenize(abstract)) > 512:\n",
    "        # Tokenize words and create frequency table\n",
    "        words = word_tokenize(abstract)\n",
    "        freqTable = dict()\n",
    "        for word in words:\n",
    "            word = word.lower()\n",
    "            if word not in stopWords:\n",
    "                freqTable[word] = freqTable.get(word, 0) + 1\n",
    "        \n",
    "        # Tokenize sentences\n",
    "        sentences = sent_tokenize(abstract)\n",
    "        \n",
    "        # Calculate sentence values\n",
    "        sentenceValue = dict()\n",
    "        for sentence in sentences:\n",
    "            for word, freq in freqTable.items():\n",
    "                if word in sentence.lower():\n",
    "                    sentenceValue[sentence] = sentenceValue.get(sentence, 0) + freq\n",
    "        \n",
    "        # Calculate average sentence value\n",
    "        sumValues = sum(sentenceValue.values())\n",
    "        average = int(sumValues / len(sentenceValue))\n",
    "        \n",
    "        # Generate summary based on sentence values\n",
    "        summary = ''\n",
    "        for sentence in sentences:\n",
    "            if sentenceValue.get(sentence, 0) > (1.5 * average):\n",
    "                summary += \" \" + sentence\n",
    "        \n",
    "        # Append summary to results\n",
    "        results_summarization.append(summary)\n",
    "    else:\n",
    "        # If the abstract is short, use it as is\n",
    "        results_summarization.append(abstract)\n"
   ]
  },
  {
   "cell_type": "code",
   "execution_count": 10,
   "id": "1bf017b1",
   "metadata": {},
   "outputs": [
    {
     "data": {
      "text/plain": [
       "0       abstract:to address air force (af) spacecraft ...\n",
       "1       leveraging the successful proof-of-concept hyb...\n",
       "2       in this proposed effort, rsa will develop a de...\n",
       "3       the growing international interest in missions...\n",
       "4       our adversaries have demonstrated cruise missi...\n",
       "                              ...                        \n",
       "1610    pretalen proposes a broadcast antenna technolo...\n",
       "1611    since the first navstar gps satellite was laun...\n",
       "1612    since the first navstar gps satellite was laun...\n",
       "1613    current navy reentry flight test bodies use a ...\n",
       "1614    current navy reentry flight test bodies use a ...\n",
       "Name: Summarization, Length: 1615, dtype: object"
      ]
     },
     "execution_count": 10,
     "metadata": {},
     "output_type": "execute_result"
    }
   ],
   "source": [
    "df['Summarization']=results_summarization\n",
    "df['Summarization']"
   ]
  },
  {
   "cell_type": "markdown",
   "id": "9dfc28ff",
   "metadata": {},
   "source": [
    "#### Classifying"
   ]
  },
  {
   "cell_type": "code",
   "execution_count": null,
   "id": "c3d741cb",
   "metadata": {
    "scrolled": true
   },
   "outputs": [
    {
     "name": "stderr",
     "output_type": "stream",
     "text": [
      "Classifying:   0%|                                                                  | 1/1615 [00:03<1:27:56,  3.27s/it]"
     ]
    },
    {
     "name": "stdout",
     "output_type": "stream",
     "text": [
      "1 1 \n",
      "\n"
     ]
    },
    {
     "name": "stderr",
     "output_type": "stream",
     "text": [
      "\r",
      "Classifying:   0%|                                                                  | 2/1615 [00:06<1:22:45,  3.08s/it]"
     ]
    },
    {
     "name": "stdout",
     "output_type": "stream",
     "text": [
      "2 2 \n",
      "\n"
     ]
    },
    {
     "name": "stderr",
     "output_type": "stream",
     "text": [
      "\r",
      "Classifying:   0%|                                                                  | 3/1615 [00:08<1:16:19,  2.84s/it]"
     ]
    },
    {
     "name": "stdout",
     "output_type": "stream",
     "text": [
      "3 3 \n",
      "\n"
     ]
    },
    {
     "name": "stderr",
     "output_type": "stream",
     "text": [
      "\r",
      "Classifying:   0%|▏                                                                 | 4/1615 [00:12<1:22:34,  3.08s/it]"
     ]
    },
    {
     "name": "stdout",
     "output_type": "stream",
     "text": [
      "4 4 \n",
      "\n"
     ]
    },
    {
     "name": "stderr",
     "output_type": "stream",
     "text": [
      "\r",
      "Classifying:   0%|▏                                                                 | 5/1615 [00:15<1:27:51,  3.27s/it]"
     ]
    },
    {
     "name": "stdout",
     "output_type": "stream",
     "text": [
      "5 5 \n",
      "\n"
     ]
    },
    {
     "name": "stderr",
     "output_type": "stream",
     "text": [
      "\r",
      "Classifying:   0%|▏                                                                 | 6/1615 [00:20<1:37:51,  3.65s/it]"
     ]
    },
    {
     "name": "stdout",
     "output_type": "stream",
     "text": [
      "6 6 \n",
      "\n"
     ]
    },
    {
     "name": "stderr",
     "output_type": "stream",
     "text": [
      "\r",
      "Classifying:   0%|▎                                                                 | 7/1615 [00:24<1:43:17,  3.85s/it]"
     ]
    },
    {
     "name": "stdout",
     "output_type": "stream",
     "text": [
      "7 7 \n",
      "\n"
     ]
    },
    {
     "name": "stderr",
     "output_type": "stream",
     "text": [
      "\r",
      "Classifying:   0%|▎                                                                 | 8/1615 [00:28<1:48:18,  4.04s/it]"
     ]
    },
    {
     "name": "stdout",
     "output_type": "stream",
     "text": [
      "8 8 \n",
      "\n"
     ]
    },
    {
     "name": "stderr",
     "output_type": "stream",
     "text": [
      "\r",
      "Classifying:   1%|▎                                                                 | 9/1615 [00:32<1:46:47,  3.99s/it]"
     ]
    },
    {
     "name": "stdout",
     "output_type": "stream",
     "text": [
      "9 9 \n",
      "\n"
     ]
    },
    {
     "name": "stderr",
     "output_type": "stream",
     "text": [
      "\r",
      "Classifying:   1%|▍                                                                | 10/1615 [00:36<1:47:44,  4.03s/it]"
     ]
    },
    {
     "name": "stdout",
     "output_type": "stream",
     "text": [
      "10 10 \n",
      "\n"
     ]
    },
    {
     "name": "stderr",
     "output_type": "stream",
     "text": [
      "\r",
      "Classifying:   1%|▍                                                                | 11/1615 [00:41<1:50:34,  4.14s/it]"
     ]
    },
    {
     "name": "stdout",
     "output_type": "stream",
     "text": [
      "11 11 \n",
      "\n"
     ]
    },
    {
     "name": "stderr",
     "output_type": "stream",
     "text": [
      "\r",
      "Classifying:   1%|▍                                                                | 12/1615 [00:45<1:48:40,  4.07s/it]"
     ]
    },
    {
     "name": "stdout",
     "output_type": "stream",
     "text": [
      "12 12 \n",
      "\n"
     ]
    },
    {
     "name": "stderr",
     "output_type": "stream",
     "text": [
      "\r",
      "Classifying:   1%|▌                                                                | 13/1615 [00:49<1:48:05,  4.05s/it]"
     ]
    },
    {
     "name": "stdout",
     "output_type": "stream",
     "text": [
      "13 13 \n",
      "\n"
     ]
    },
    {
     "name": "stderr",
     "output_type": "stream",
     "text": [
      "\r",
      "Classifying:   1%|▌                                                                | 14/1615 [00:53<1:46:33,  3.99s/it]"
     ]
    },
    {
     "name": "stdout",
     "output_type": "stream",
     "text": [
      "14 14 \n",
      "\n"
     ]
    },
    {
     "name": "stderr",
     "output_type": "stream",
     "text": [
      "\r",
      "Classifying:   1%|▌                                                                | 15/1615 [00:56<1:45:43,  3.96s/it]"
     ]
    },
    {
     "name": "stdout",
     "output_type": "stream",
     "text": [
      "15 15 \n",
      "\n"
     ]
    },
    {
     "name": "stderr",
     "output_type": "stream",
     "text": [
      "\r",
      "Classifying:   1%|▋                                                                | 16/1615 [01:01<1:53:12,  4.25s/it]"
     ]
    },
    {
     "name": "stdout",
     "output_type": "stream",
     "text": [
      "16 16 \n",
      "\n"
     ]
    },
    {
     "name": "stderr",
     "output_type": "stream",
     "text": [
      "\r",
      "Classifying:   1%|▋                                                                | 17/1615 [01:07<2:04:21,  4.67s/it]"
     ]
    },
    {
     "name": "stdout",
     "output_type": "stream",
     "text": [
      "17 17 \n",
      "\n"
     ]
    },
    {
     "name": "stderr",
     "output_type": "stream",
     "text": [
      "\r",
      "Classifying:   1%|▋                                                                | 18/1615 [01:11<1:59:22,  4.48s/it]"
     ]
    },
    {
     "name": "stdout",
     "output_type": "stream",
     "text": [
      "18 18 \n",
      "\n"
     ]
    },
    {
     "name": "stderr",
     "output_type": "stream",
     "text": [
      "\r",
      "Classifying:   1%|▊                                                                | 19/1615 [01:15<1:55:46,  4.35s/it]"
     ]
    },
    {
     "name": "stdout",
     "output_type": "stream",
     "text": [
      "19 19 \n",
      "\n"
     ]
    },
    {
     "name": "stderr",
     "output_type": "stream",
     "text": [
      "\r",
      "Classifying:   1%|▊                                                                | 20/1615 [01:19<1:53:05,  4.25s/it]"
     ]
    },
    {
     "name": "stdout",
     "output_type": "stream",
     "text": [
      "20 20 \n",
      "\n"
     ]
    },
    {
     "name": "stderr",
     "output_type": "stream",
     "text": [
      "\r",
      "Classifying:   1%|▊                                                                | 21/1615 [01:23<1:48:23,  4.08s/it]"
     ]
    },
    {
     "name": "stdout",
     "output_type": "stream",
     "text": [
      "21 21 \n",
      "\n"
     ]
    },
    {
     "name": "stderr",
     "output_type": "stream",
     "text": [
      "\r",
      "Classifying:   1%|▉                                                                | 22/1615 [01:26<1:41:31,  3.82s/it]"
     ]
    },
    {
     "name": "stdout",
     "output_type": "stream",
     "text": [
      "22 22 \n",
      "\n"
     ]
    },
    {
     "name": "stderr",
     "output_type": "stream",
     "text": [
      "\r",
      "Classifying:   1%|▉                                                                | 23/1615 [01:29<1:37:17,  3.67s/it]"
     ]
    },
    {
     "name": "stdout",
     "output_type": "stream",
     "text": [
      "23 23 \n",
      "\n"
     ]
    },
    {
     "name": "stderr",
     "output_type": "stream",
     "text": [
      "\r",
      "Classifying:   1%|▉                                                                | 24/1615 [01:33<1:39:36,  3.76s/it]"
     ]
    },
    {
     "name": "stdout",
     "output_type": "stream",
     "text": [
      "24 24 \n",
      "\n"
     ]
    },
    {
     "name": "stderr",
     "output_type": "stream",
     "text": [
      "\r",
      "Classifying:   2%|█                                                                | 25/1615 [01:37<1:36:23,  3.64s/it]"
     ]
    },
    {
     "name": "stdout",
     "output_type": "stream",
     "text": [
      "25 25 \n",
      "\n"
     ]
    },
    {
     "name": "stderr",
     "output_type": "stream",
     "text": [
      "\r",
      "Classifying:   2%|█                                                                | 26/1615 [01:42<1:46:49,  4.03s/it]"
     ]
    },
    {
     "name": "stdout",
     "output_type": "stream",
     "text": [
      "26 26 \n",
      "\n"
     ]
    },
    {
     "name": "stderr",
     "output_type": "stream",
     "text": [
      "\r",
      "Classifying:   2%|█                                                                | 27/1615 [01:46<1:52:38,  4.26s/it]"
     ]
    },
    {
     "name": "stdout",
     "output_type": "stream",
     "text": [
      "27 27 \n",
      "\n"
     ]
    },
    {
     "name": "stderr",
     "output_type": "stream",
     "text": [
      "\r",
      "Classifying:   2%|█▏                                                               | 28/1615 [01:51<1:56:14,  4.39s/it]"
     ]
    },
    {
     "name": "stdout",
     "output_type": "stream",
     "text": [
      "28 28 \n",
      "\n"
     ]
    },
    {
     "name": "stderr",
     "output_type": "stream",
     "text": [
      "\r",
      "Classifying:   2%|█▏                                                               | 29/1615 [01:55<1:53:58,  4.31s/it]"
     ]
    },
    {
     "name": "stdout",
     "output_type": "stream",
     "text": [
      "29 29 \n",
      "\n"
     ]
    },
    {
     "name": "stderr",
     "output_type": "stream",
     "text": [
      "\r",
      "Classifying:   2%|█▏                                                               | 30/1615 [01:59<1:51:14,  4.21s/it]"
     ]
    },
    {
     "name": "stdout",
     "output_type": "stream",
     "text": [
      "30 30 \n",
      "\n"
     ]
    },
    {
     "name": "stderr",
     "output_type": "stream",
     "text": [
      "\r",
      "Classifying:   2%|█▏                                                               | 31/1615 [02:04<1:52:43,  4.27s/it]"
     ]
    },
    {
     "name": "stdout",
     "output_type": "stream",
     "text": [
      "31 31 \n",
      "\n"
     ]
    },
    {
     "name": "stderr",
     "output_type": "stream",
     "text": [
      "\r",
      "Classifying:   2%|█▎                                                               | 32/1615 [02:09<2:00:35,  4.57s/it]"
     ]
    },
    {
     "name": "stdout",
     "output_type": "stream",
     "text": [
      "32 32 \n",
      "\n"
     ]
    },
    {
     "name": "stderr",
     "output_type": "stream",
     "text": [
      "\r",
      "Classifying:   2%|█▎                                                               | 33/1615 [02:15<2:14:39,  5.11s/it]"
     ]
    },
    {
     "name": "stdout",
     "output_type": "stream",
     "text": [
      "33 33 \n",
      "\n"
     ]
    },
    {
     "name": "stderr",
     "output_type": "stream",
     "text": [
      "\r",
      "Classifying:   2%|█▎                                                               | 34/1615 [02:19<2:02:20,  4.64s/it]"
     ]
    },
    {
     "name": "stdout",
     "output_type": "stream",
     "text": [
      "34 34 \n",
      "\n"
     ]
    },
    {
     "name": "stderr",
     "output_type": "stream",
     "text": [
      "\r",
      "Classifying:   2%|█▍                                                               | 35/1615 [02:23<2:00:01,  4.56s/it]"
     ]
    },
    {
     "name": "stdout",
     "output_type": "stream",
     "text": [
      "35 35 \n",
      "\n"
     ]
    },
    {
     "name": "stderr",
     "output_type": "stream",
     "text": [
      "\r",
      "Classifying:   2%|█▍                                                               | 36/1615 [02:27<1:55:15,  4.38s/it]"
     ]
    },
    {
     "name": "stdout",
     "output_type": "stream",
     "text": [
      "36 36 \n",
      "\n"
     ]
    },
    {
     "name": "stderr",
     "output_type": "stream",
     "text": [
      "\r",
      "Classifying:   2%|█▍                                                               | 37/1615 [02:31<1:53:07,  4.30s/it]"
     ]
    },
    {
     "name": "stdout",
     "output_type": "stream",
     "text": [
      "37 37 \n",
      "\n"
     ]
    },
    {
     "name": "stderr",
     "output_type": "stream",
     "text": [
      "\r",
      "Classifying:   2%|█▌                                                               | 38/1615 [02:35<1:51:18,  4.23s/it]"
     ]
    },
    {
     "name": "stdout",
     "output_type": "stream",
     "text": [
      "38 38 \n",
      "\n"
     ]
    },
    {
     "name": "stderr",
     "output_type": "stream",
     "text": [
      "\r",
      "Classifying:   2%|█▌                                                               | 39/1615 [02:39<1:46:56,  4.07s/it]"
     ]
    },
    {
     "name": "stdout",
     "output_type": "stream",
     "text": [
      "39 39 \n",
      "\n"
     ]
    },
    {
     "name": "stderr",
     "output_type": "stream",
     "text": [
      "\r",
      "Classifying:   2%|█▌                                                               | 40/1615 [02:43<1:46:49,  4.07s/it]"
     ]
    },
    {
     "name": "stdout",
     "output_type": "stream",
     "text": [
      "40 40 \n",
      "\n"
     ]
    },
    {
     "name": "stderr",
     "output_type": "stream",
     "text": [
      "\r",
      "Classifying:   3%|█▋                                                               | 41/1615 [02:48<1:53:20,  4.32s/it]"
     ]
    },
    {
     "name": "stdout",
     "output_type": "stream",
     "text": [
      "41 41 \n",
      "\n"
     ]
    },
    {
     "name": "stderr",
     "output_type": "stream",
     "text": [
      "\r",
      "Classifying:   3%|█▋                                                               | 42/1615 [02:52<1:46:59,  4.08s/it]"
     ]
    },
    {
     "name": "stdout",
     "output_type": "stream",
     "text": [
      "42 42 \n",
      "\n"
     ]
    },
    {
     "name": "stderr",
     "output_type": "stream",
     "text": [
      "\r",
      "Classifying:   3%|█▋                                                               | 43/1615 [02:55<1:43:31,  3.95s/it]"
     ]
    },
    {
     "name": "stdout",
     "output_type": "stream",
     "text": [
      "43 43 \n",
      "\n"
     ]
    },
    {
     "name": "stderr",
     "output_type": "stream",
     "text": [
      "\r",
      "Classifying:   3%|█▊                                                               | 44/1615 [03:00<1:48:42,  4.15s/it]"
     ]
    },
    {
     "name": "stdout",
     "output_type": "stream",
     "text": [
      "44 44 \n",
      "\n"
     ]
    },
    {
     "name": "stderr",
     "output_type": "stream",
     "text": [
      "\r",
      "Classifying:   3%|█▊                                                               | 45/1615 [03:04<1:48:51,  4.16s/it]"
     ]
    },
    {
     "name": "stdout",
     "output_type": "stream",
     "text": [
      "45 45 \n",
      "\n"
     ]
    },
    {
     "name": "stderr",
     "output_type": "stream",
     "text": [
      "\r",
      "Classifying:   3%|█▊                                                               | 46/1615 [03:07<1:43:20,  3.95s/it]"
     ]
    },
    {
     "name": "stdout",
     "output_type": "stream",
     "text": [
      "46 46 \n",
      "\n"
     ]
    },
    {
     "name": "stderr",
     "output_type": "stream",
     "text": [
      "\r",
      "Classifying:   3%|█▉                                                               | 47/1615 [03:11<1:40:29,  3.85s/it]"
     ]
    },
    {
     "name": "stdout",
     "output_type": "stream",
     "text": [
      "47 47 \n",
      "\n"
     ]
    },
    {
     "name": "stderr",
     "output_type": "stream",
     "text": [
      "\r",
      "Classifying:   3%|█▉                                                               | 48/1615 [03:15<1:41:12,  3.88s/it]"
     ]
    },
    {
     "name": "stdout",
     "output_type": "stream",
     "text": [
      "48 48 \n",
      "\n"
     ]
    },
    {
     "name": "stderr",
     "output_type": "stream",
     "text": [
      "\r",
      "Classifying:   3%|█▉                                                               | 49/1615 [03:19<1:45:16,  4.03s/it]"
     ]
    },
    {
     "name": "stdout",
     "output_type": "stream",
     "text": [
      "49 49 \n",
      "\n"
     ]
    },
    {
     "name": "stderr",
     "output_type": "stream",
     "text": [
      "\r",
      "Classifying:   3%|██                                                               | 50/1615 [03:23<1:41:20,  3.89s/it]"
     ]
    },
    {
     "name": "stdout",
     "output_type": "stream",
     "text": [
      "50 50 \n",
      "\n"
     ]
    },
    {
     "name": "stderr",
     "output_type": "stream",
     "text": [
      "\r",
      "Classifying:   3%|██                                                               | 51/1615 [03:27<1:41:00,  3.88s/it]"
     ]
    },
    {
     "name": "stdout",
     "output_type": "stream",
     "text": [
      "51 51 \n",
      "\n"
     ]
    },
    {
     "name": "stderr",
     "output_type": "stream",
     "text": [
      "\r",
      "Classifying:   3%|██                                                               | 52/1615 [03:31<1:42:09,  3.92s/it]"
     ]
    },
    {
     "name": "stdout",
     "output_type": "stream",
     "text": [
      "52 52 \n",
      "\n"
     ]
    },
    {
     "name": "stderr",
     "output_type": "stream",
     "text": [
      "\r",
      "Classifying:   3%|██▏                                                              | 53/1615 [03:35<1:41:16,  3.89s/it]"
     ]
    },
    {
     "name": "stdout",
     "output_type": "stream",
     "text": [
      "53 53 \n",
      "\n"
     ]
    },
    {
     "name": "stderr",
     "output_type": "stream",
     "text": [
      "\r",
      "Classifying:   3%|██▏                                                              | 54/1615 [03:39<1:44:26,  4.01s/it]"
     ]
    },
    {
     "name": "stdout",
     "output_type": "stream",
     "text": [
      "54 54 \n",
      "\n"
     ]
    },
    {
     "name": "stderr",
     "output_type": "stream",
     "text": [
      "\r",
      "Classifying:   3%|██▏                                                              | 55/1615 [03:44<1:52:18,  4.32s/it]"
     ]
    },
    {
     "name": "stdout",
     "output_type": "stream",
     "text": [
      "55 55 \n",
      "\n"
     ]
    },
    {
     "name": "stderr",
     "output_type": "stream",
     "text": [
      "\r",
      "Classifying:   3%|██▎                                                              | 56/1615 [03:49<1:57:30,  4.52s/it]"
     ]
    },
    {
     "name": "stdout",
     "output_type": "stream",
     "text": [
      "56 56 \n",
      "\n"
     ]
    },
    {
     "name": "stderr",
     "output_type": "stream",
     "text": [
      "\r",
      "Classifying:   4%|██▎                                                              | 57/1615 [03:53<1:51:55,  4.31s/it]"
     ]
    },
    {
     "name": "stdout",
     "output_type": "stream",
     "text": [
      "57 57 \n",
      "\n"
     ]
    },
    {
     "name": "stderr",
     "output_type": "stream",
     "text": [
      "\r",
      "Classifying:   4%|██▎                                                              | 58/1615 [03:57<1:49:20,  4.21s/it]"
     ]
    },
    {
     "name": "stdout",
     "output_type": "stream",
     "text": [
      "58 58 \n",
      "\n"
     ]
    },
    {
     "name": "stderr",
     "output_type": "stream",
     "text": [
      "\r",
      "Classifying:   4%|██▎                                                              | 59/1615 [04:02<1:55:42,  4.46s/it]"
     ]
    },
    {
     "name": "stdout",
     "output_type": "stream",
     "text": [
      "59 59 \n",
      "\n"
     ]
    },
    {
     "name": "stderr",
     "output_type": "stream",
     "text": [
      "\r",
      "Classifying:   4%|██▍                                                              | 60/1615 [04:04<1:41:26,  3.91s/it]"
     ]
    },
    {
     "name": "stdout",
     "output_type": "stream",
     "text": [
      "60 60 \n",
      "\n"
     ]
    },
    {
     "name": "stderr",
     "output_type": "stream",
     "text": [
      "\r",
      "Classifying:   4%|██▍                                                              | 61/1615 [04:09<1:44:52,  4.05s/it]"
     ]
    },
    {
     "name": "stdout",
     "output_type": "stream",
     "text": [
      "61 61 \n",
      "\n"
     ]
    },
    {
     "name": "stderr",
     "output_type": "stream",
     "text": [
      "\r",
      "Classifying:   4%|██▍                                                              | 62/1615 [04:12<1:35:43,  3.70s/it]"
     ]
    },
    {
     "name": "stdout",
     "output_type": "stream",
     "text": [
      "62 62 \n",
      "\n"
     ]
    },
    {
     "name": "stderr",
     "output_type": "stream",
     "text": [
      "\r",
      "Classifying:   4%|██▌                                                              | 63/1615 [04:15<1:30:04,  3.48s/it]"
     ]
    },
    {
     "name": "stdout",
     "output_type": "stream",
     "text": [
      "63 63 \n",
      "\n"
     ]
    },
    {
     "name": "stderr",
     "output_type": "stream",
     "text": [
      "\r",
      "Classifying:   4%|██▌                                                              | 64/1615 [04:19<1:35:28,  3.69s/it]"
     ]
    },
    {
     "name": "stdout",
     "output_type": "stream",
     "text": [
      "64 64 \n",
      "\n"
     ]
    },
    {
     "name": "stderr",
     "output_type": "stream",
     "text": [
      "\r",
      "Classifying:   4%|██▌                                                              | 65/1615 [04:23<1:37:53,  3.79s/it]"
     ]
    },
    {
     "name": "stdout",
     "output_type": "stream",
     "text": [
      "65 65 \n",
      "\n"
     ]
    },
    {
     "name": "stderr",
     "output_type": "stream",
     "text": [
      "\r",
      "Classifying:   4%|██▋                                                              | 66/1615 [04:27<1:40:12,  3.88s/it]"
     ]
    },
    {
     "name": "stdout",
     "output_type": "stream",
     "text": [
      "66 66 \n",
      "\n"
     ]
    },
    {
     "name": "stderr",
     "output_type": "stream",
     "text": [
      "\r",
      "Classifying:   4%|██▋                                                              | 67/1615 [04:32<1:46:08,  4.11s/it]"
     ]
    },
    {
     "name": "stdout",
     "output_type": "stream",
     "text": [
      "67 67 \n",
      "\n"
     ]
    },
    {
     "name": "stderr",
     "output_type": "stream",
     "text": [
      "\r",
      "Classifying:   4%|██▋                                                              | 68/1615 [04:36<1:48:42,  4.22s/it]"
     ]
    },
    {
     "name": "stdout",
     "output_type": "stream",
     "text": [
      "68 68 \n",
      "\n"
     ]
    },
    {
     "name": "stderr",
     "output_type": "stream",
     "text": [
      "\r",
      "Classifying:   4%|██▊                                                              | 69/1615 [04:39<1:42:13,  3.97s/it]"
     ]
    },
    {
     "name": "stdout",
     "output_type": "stream",
     "text": [
      "69 69 \n",
      "\n"
     ]
    },
    {
     "name": "stderr",
     "output_type": "stream",
     "text": [
      "\r",
      "Classifying:   4%|██▊                                                              | 70/1615 [04:42<1:32:36,  3.60s/it]"
     ]
    },
    {
     "name": "stdout",
     "output_type": "stream",
     "text": [
      "70 70 \n",
      "\n"
     ]
    },
    {
     "name": "stderr",
     "output_type": "stream",
     "text": [
      "\r",
      "Classifying:   4%|██▊                                                              | 71/1615 [04:46<1:32:53,  3.61s/it]"
     ]
    },
    {
     "name": "stdout",
     "output_type": "stream",
     "text": [
      "71 71 \n",
      "\n"
     ]
    },
    {
     "name": "stderr",
     "output_type": "stream",
     "text": [
      "\r",
      "Classifying:   4%|██▉                                                              | 72/1615 [04:50<1:36:34,  3.76s/it]"
     ]
    },
    {
     "name": "stdout",
     "output_type": "stream",
     "text": [
      "72 72 \n",
      "\n"
     ]
    },
    {
     "name": "stderr",
     "output_type": "stream",
     "text": [
      "\r",
      "Classifying:   5%|██▉                                                              | 73/1615 [04:53<1:31:36,  3.56s/it]"
     ]
    },
    {
     "name": "stdout",
     "output_type": "stream",
     "text": [
      "73 73 \n",
      "\n"
     ]
    },
    {
     "name": "stderr",
     "output_type": "stream",
     "text": [
      "\r",
      "Classifying:   5%|██▉                                                              | 74/1615 [04:58<1:40:52,  3.93s/it]"
     ]
    },
    {
     "name": "stdout",
     "output_type": "stream",
     "text": [
      "74 74 \n",
      "\n",
      "Error processing abstract: object of type 'float' has no len()\n",
      "75 75 \n",
      "\n"
     ]
    },
    {
     "name": "stderr",
     "output_type": "stream",
     "text": [
      "\r",
      "Classifying:   5%|███                                                              | 76/1615 [05:02<1:17:30,  3.02s/it]"
     ]
    },
    {
     "name": "stdout",
     "output_type": "stream",
     "text": [
      "76 76 \n",
      "\n"
     ]
    },
    {
     "name": "stderr",
     "output_type": "stream",
     "text": [
      "\r",
      "Classifying:   5%|███                                                              | 77/1615 [05:06<1:26:55,  3.39s/it]"
     ]
    },
    {
     "name": "stdout",
     "output_type": "stream",
     "text": [
      "77 77 \n",
      "\n"
     ]
    },
    {
     "name": "stderr",
     "output_type": "stream",
     "text": [
      "\r",
      "Classifying:   5%|███▏                                                             | 78/1615 [05:10<1:25:53,  3.35s/it]"
     ]
    },
    {
     "name": "stdout",
     "output_type": "stream",
     "text": [
      "78 78 \n",
      "\n"
     ]
    },
    {
     "name": "stderr",
     "output_type": "stream",
     "text": [
      "\r",
      "Classifying:   5%|███▏                                                             | 79/1615 [05:15<1:38:44,  3.86s/it]"
     ]
    },
    {
     "name": "stdout",
     "output_type": "stream",
     "text": [
      "79 79 \n",
      "\n"
     ]
    },
    {
     "name": "stderr",
     "output_type": "stream",
     "text": [
      "\r",
      "Classifying:   5%|███▏                                                             | 80/1615 [05:24<2:18:47,  5.42s/it]"
     ]
    },
    {
     "name": "stdout",
     "output_type": "stream",
     "text": [
      "80 80 \n",
      "\n"
     ]
    },
    {
     "name": "stderr",
     "output_type": "stream",
     "text": [
      "\r",
      "Classifying:   5%|███▎                                                             | 81/1615 [05:28<2:05:23,  4.90s/it]"
     ]
    },
    {
     "name": "stdout",
     "output_type": "stream",
     "text": [
      "81 81 \n",
      "\n"
     ]
    },
    {
     "name": "stderr",
     "output_type": "stream",
     "text": [
      "\r",
      "Classifying:   5%|███▎                                                             | 82/1615 [05:31<1:52:45,  4.41s/it]"
     ]
    },
    {
     "name": "stdout",
     "output_type": "stream",
     "text": [
      "82 82 \n",
      "\n"
     ]
    },
    {
     "name": "stderr",
     "output_type": "stream",
     "text": [
      "\r",
      "Classifying:   5%|███▎                                                             | 83/1615 [05:36<1:55:54,  4.54s/it]"
     ]
    },
    {
     "name": "stdout",
     "output_type": "stream",
     "text": [
      "83 83 \n",
      "\n"
     ]
    },
    {
     "name": "stderr",
     "output_type": "stream",
     "text": [
      "\r",
      "Classifying:   5%|███▍                                                             | 84/1615 [05:41<1:56:55,  4.58s/it]"
     ]
    },
    {
     "name": "stdout",
     "output_type": "stream",
     "text": [
      "84 84 \n",
      "\n"
     ]
    },
    {
     "name": "stderr",
     "output_type": "stream",
     "text": [
      "\r",
      "Classifying:   5%|███▍                                                             | 85/1615 [05:44<1:51:32,  4.37s/it]"
     ]
    },
    {
     "name": "stdout",
     "output_type": "stream",
     "text": [
      "85 85 \n",
      "\n"
     ]
    },
    {
     "name": "stderr",
     "output_type": "stream",
     "text": [
      "\r",
      "Classifying:   5%|███▍                                                             | 86/1615 [05:48<1:47:17,  4.21s/it]"
     ]
    },
    {
     "name": "stdout",
     "output_type": "stream",
     "text": [
      "86 86 \n",
      "\n"
     ]
    },
    {
     "name": "stderr",
     "output_type": "stream",
     "text": [
      "\r",
      "Classifying:   5%|███▌                                                             | 87/1615 [05:52<1:41:00,  3.97s/it]"
     ]
    },
    {
     "name": "stdout",
     "output_type": "stream",
     "text": [
      "87 87 \n",
      "\n"
     ]
    },
    {
     "name": "stderr",
     "output_type": "stream",
     "text": [
      "\r",
      "Classifying:   5%|███▌                                                             | 88/1615 [05:55<1:36:07,  3.78s/it]"
     ]
    },
    {
     "name": "stdout",
     "output_type": "stream",
     "text": [
      "88 88 \n",
      "\n"
     ]
    },
    {
     "name": "stderr",
     "output_type": "stream",
     "text": [
      "\r",
      "Classifying:   6%|███▌                                                             | 89/1615 [05:59<1:36:20,  3.79s/it]"
     ]
    },
    {
     "name": "stdout",
     "output_type": "stream",
     "text": [
      "89 89 \n",
      "\n"
     ]
    },
    {
     "name": "stderr",
     "output_type": "stream",
     "text": [
      "\r",
      "Classifying:   6%|███▌                                                             | 90/1615 [06:03<1:40:45,  3.96s/it]"
     ]
    },
    {
     "name": "stdout",
     "output_type": "stream",
     "text": [
      "90 90 \n",
      "\n"
     ]
    },
    {
     "name": "stderr",
     "output_type": "stream",
     "text": [
      "\r",
      "Classifying:   6%|███▋                                                             | 91/1615 [06:07<1:39:41,  3.92s/it]"
     ]
    },
    {
     "name": "stdout",
     "output_type": "stream",
     "text": [
      "91 91 \n",
      "\n"
     ]
    },
    {
     "name": "stderr",
     "output_type": "stream",
     "text": [
      "\r",
      "Classifying:   6%|███▋                                                             | 92/1615 [06:11<1:37:57,  3.86s/it]"
     ]
    },
    {
     "name": "stdout",
     "output_type": "stream",
     "text": [
      "92 92 \n",
      "\n"
     ]
    },
    {
     "name": "stderr",
     "output_type": "stream",
     "text": [
      "\r",
      "Classifying:   6%|███▋                                                             | 93/1615 [06:15<1:43:22,  4.08s/it]"
     ]
    },
    {
     "name": "stdout",
     "output_type": "stream",
     "text": [
      "93 93 \n",
      "\n"
     ]
    },
    {
     "name": "stderr",
     "output_type": "stream",
     "text": [
      "\r",
      "Classifying:   6%|███▊                                                             | 94/1615 [06:19<1:43:53,  4.10s/it]"
     ]
    },
    {
     "name": "stdout",
     "output_type": "stream",
     "text": [
      "94 94 \n",
      "\n"
     ]
    },
    {
     "name": "stderr",
     "output_type": "stream",
     "text": [
      "\r",
      "Classifying:   6%|███▊                                                             | 95/1615 [06:25<1:52:43,  4.45s/it]"
     ]
    },
    {
     "name": "stdout",
     "output_type": "stream",
     "text": [
      "95 95 \n",
      "\n"
     ]
    },
    {
     "name": "stderr",
     "output_type": "stream",
     "text": [
      "\r",
      "Classifying:   6%|███▊                                                             | 96/1615 [06:29<1:52:46,  4.45s/it]"
     ]
    },
    {
     "name": "stdout",
     "output_type": "stream",
     "text": [
      "96 96 \n",
      "\n"
     ]
    },
    {
     "name": "stderr",
     "output_type": "stream",
     "text": [
      "\r",
      "Classifying:   6%|███▉                                                             | 97/1615 [06:33<1:46:17,  4.20s/it]"
     ]
    },
    {
     "name": "stdout",
     "output_type": "stream",
     "text": [
      "97 97 \n",
      "\n"
     ]
    },
    {
     "name": "stderr",
     "output_type": "stream",
     "text": [
      "\r",
      "Classifying:   6%|███▉                                                             | 98/1615 [06:37<1:48:26,  4.29s/it]"
     ]
    },
    {
     "name": "stdout",
     "output_type": "stream",
     "text": [
      "98 98 \n",
      "\n"
     ]
    },
    {
     "name": "stderr",
     "output_type": "stream",
     "text": [
      "\r",
      "Classifying:   6%|███▉                                                             | 99/1615 [06:42<1:48:06,  4.28s/it]"
     ]
    },
    {
     "name": "stdout",
     "output_type": "stream",
     "text": [
      "99 99 \n",
      "\n"
     ]
    },
    {
     "name": "stderr",
     "output_type": "stream",
     "text": [
      "\r",
      "Classifying:   6%|███▉                                                            | 100/1615 [06:46<1:47:28,  4.26s/it]"
     ]
    },
    {
     "name": "stdout",
     "output_type": "stream",
     "text": [
      "100 100 \n",
      "\n"
     ]
    },
    {
     "name": "stderr",
     "output_type": "stream",
     "text": [
      "\r",
      "Classifying:   6%|████                                                            | 101/1615 [06:50<1:45:23,  4.18s/it]"
     ]
    },
    {
     "name": "stdout",
     "output_type": "stream",
     "text": [
      "101 101 \n",
      "\n"
     ]
    },
    {
     "name": "stderr",
     "output_type": "stream",
     "text": [
      "\r",
      "Classifying:   6%|████                                                            | 102/1615 [06:53<1:40:11,  3.97s/it]"
     ]
    },
    {
     "name": "stdout",
     "output_type": "stream",
     "text": [
      "102 102 \n",
      "\n"
     ]
    },
    {
     "name": "stderr",
     "output_type": "stream",
     "text": [
      "\r",
      "Classifying:   6%|████                                                            | 103/1615 [06:57<1:40:48,  4.00s/it]"
     ]
    },
    {
     "name": "stdout",
     "output_type": "stream",
     "text": [
      "103 103 \n",
      "\n"
     ]
    },
    {
     "name": "stderr",
     "output_type": "stream",
     "text": [
      "\r",
      "Classifying:   6%|████                                                            | 104/1615 [07:01<1:40:45,  4.00s/it]"
     ]
    },
    {
     "name": "stdout",
     "output_type": "stream",
     "text": [
      "104 104 \n",
      "\n"
     ]
    },
    {
     "name": "stderr",
     "output_type": "stream",
     "text": [
      "\r",
      "Classifying:   7%|████▏                                                           | 105/1615 [07:06<1:44:28,  4.15s/it]"
     ]
    },
    {
     "name": "stdout",
     "output_type": "stream",
     "text": [
      "105 105 \n",
      "\n"
     ]
    },
    {
     "name": "stderr",
     "output_type": "stream",
     "text": [
      "\r",
      "Classifying:   7%|████▏                                                           | 106/1615 [07:11<1:49:03,  4.34s/it]"
     ]
    },
    {
     "name": "stdout",
     "output_type": "stream",
     "text": [
      "106 106 \n",
      "\n"
     ]
    },
    {
     "name": "stderr",
     "output_type": "stream",
     "text": [
      "\r",
      "Classifying:   7%|████▏                                                           | 107/1615 [07:19<2:21:26,  5.63s/it]"
     ]
    },
    {
     "name": "stdout",
     "output_type": "stream",
     "text": [
      "107 107 \n",
      "\n"
     ]
    },
    {
     "name": "stderr",
     "output_type": "stream",
     "text": [
      "\r",
      "Classifying:   7%|████▎                                                           | 108/1615 [07:25<2:24:13,  5.74s/it]"
     ]
    },
    {
     "name": "stdout",
     "output_type": "stream",
     "text": [
      "108 108 \n",
      "\n"
     ]
    },
    {
     "name": "stderr",
     "output_type": "stream",
     "text": [
      "\r",
      "Classifying:   7%|████▎                                                           | 109/1615 [07:30<2:18:08,  5.50s/it]"
     ]
    },
    {
     "name": "stdout",
     "output_type": "stream",
     "text": [
      "109 109 \n",
      "\n"
     ]
    },
    {
     "name": "stderr",
     "output_type": "stream",
     "text": [
      "\r",
      "Classifying:   7%|████▎                                                           | 110/1615 [07:34<2:07:19,  5.08s/it]"
     ]
    },
    {
     "name": "stdout",
     "output_type": "stream",
     "text": [
      "110 110 \n",
      "\n"
     ]
    },
    {
     "name": "stderr",
     "output_type": "stream",
     "text": [
      "\r",
      "Classifying:   7%|████▍                                                           | 111/1615 [07:39<2:02:57,  4.91s/it]"
     ]
    },
    {
     "name": "stdout",
     "output_type": "stream",
     "text": [
      "111 111 \n",
      "\n"
     ]
    },
    {
     "name": "stderr",
     "output_type": "stream",
     "text": [
      "\r",
      "Classifying:   7%|████▍                                                           | 112/1615 [07:43<1:56:01,  4.63s/it]"
     ]
    },
    {
     "name": "stdout",
     "output_type": "stream",
     "text": [
      "112 112 \n",
      "\n"
     ]
    },
    {
     "name": "stderr",
     "output_type": "stream",
     "text": [
      "\r",
      "Classifying:   7%|████▍                                                           | 113/1615 [07:48<1:58:12,  4.72s/it]"
     ]
    },
    {
     "name": "stdout",
     "output_type": "stream",
     "text": [
      "113 113 \n",
      "\n"
     ]
    },
    {
     "name": "stderr",
     "output_type": "stream",
     "text": [
      "\r",
      "Classifying:   7%|████▌                                                           | 114/1615 [07:51<1:49:27,  4.38s/it]"
     ]
    },
    {
     "name": "stdout",
     "output_type": "stream",
     "text": [
      "114 114 \n",
      "\n"
     ]
    },
    {
     "name": "stderr",
     "output_type": "stream",
     "text": [
      "\r",
      "Classifying:   7%|████▌                                                           | 115/1615 [07:56<1:50:35,  4.42s/it]"
     ]
    },
    {
     "name": "stdout",
     "output_type": "stream",
     "text": [
      "115 115 \n",
      "\n"
     ]
    },
    {
     "name": "stderr",
     "output_type": "stream",
     "text": [
      "\r",
      "Classifying:   7%|████▌                                                           | 116/1615 [08:01<1:53:31,  4.54s/it]"
     ]
    },
    {
     "name": "stdout",
     "output_type": "stream",
     "text": [
      "116 116 \n",
      "\n"
     ]
    },
    {
     "name": "stderr",
     "output_type": "stream",
     "text": [
      "\r",
      "Classifying:   7%|████▋                                                           | 117/1615 [08:04<1:44:11,  4.17s/it]"
     ]
    },
    {
     "name": "stdout",
     "output_type": "stream",
     "text": [
      "117 117 \n",
      "\n"
     ]
    },
    {
     "name": "stderr",
     "output_type": "stream",
     "text": [
      "\r",
      "Classifying:   7%|████▋                                                           | 118/1615 [08:08<1:45:32,  4.23s/it]"
     ]
    },
    {
     "name": "stdout",
     "output_type": "stream",
     "text": [
      "118 118 \n",
      "\n"
     ]
    },
    {
     "name": "stderr",
     "output_type": "stream",
     "text": [
      "\r",
      "Classifying:   7%|████▋                                                           | 119/1615 [08:12<1:41:22,  4.07s/it]"
     ]
    },
    {
     "name": "stdout",
     "output_type": "stream",
     "text": [
      "119 119 \n",
      "\n"
     ]
    },
    {
     "name": "stderr",
     "output_type": "stream",
     "text": [
      "\r",
      "Classifying:   7%|████▊                                                           | 120/1615 [08:16<1:39:46,  4.00s/it]"
     ]
    },
    {
     "name": "stdout",
     "output_type": "stream",
     "text": [
      "120 120 \n",
      "\n"
     ]
    },
    {
     "name": "stderr",
     "output_type": "stream",
     "text": [
      "\r",
      "Classifying:   7%|████▊                                                           | 121/1615 [08:20<1:44:04,  4.18s/it]"
     ]
    },
    {
     "name": "stdout",
     "output_type": "stream",
     "text": [
      "121 121 \n",
      "\n"
     ]
    },
    {
     "name": "stderr",
     "output_type": "stream",
     "text": [
      "\r",
      "Classifying:   8%|████▊                                                           | 122/1615 [08:23<1:35:26,  3.84s/it]"
     ]
    },
    {
     "name": "stdout",
     "output_type": "stream",
     "text": [
      "122 122 \n",
      "\n"
     ]
    },
    {
     "name": "stderr",
     "output_type": "stream",
     "text": [
      "\r",
      "Classifying:   8%|████▊                                                           | 123/1615 [08:28<1:43:30,  4.16s/it]"
     ]
    },
    {
     "name": "stdout",
     "output_type": "stream",
     "text": [
      "123 123 \n",
      "\n"
     ]
    },
    {
     "name": "stderr",
     "output_type": "stream",
     "text": [
      "\r",
      "Classifying:   8%|████▉                                                           | 124/1615 [08:33<1:45:33,  4.25s/it]"
     ]
    },
    {
     "name": "stdout",
     "output_type": "stream",
     "text": [
      "124 124 \n",
      "\n"
     ]
    },
    {
     "name": "stderr",
     "output_type": "stream",
     "text": [
      "\r",
      "Classifying:   8%|████▉                                                           | 125/1615 [08:37<1:48:52,  4.38s/it]"
     ]
    },
    {
     "name": "stdout",
     "output_type": "stream",
     "text": [
      "125 125 \n",
      "\n"
     ]
    },
    {
     "name": "stderr",
     "output_type": "stream",
     "text": [
      "\r",
      "Classifying:   8%|████▉                                                           | 126/1615 [08:43<1:54:46,  4.63s/it]"
     ]
    },
    {
     "name": "stdout",
     "output_type": "stream",
     "text": [
      "126 126 \n",
      "\n"
     ]
    },
    {
     "name": "stderr",
     "output_type": "stream",
     "text": [
      "\r",
      "Classifying:   8%|█████                                                           | 127/1615 [08:47<1:54:49,  4.63s/it]"
     ]
    },
    {
     "name": "stdout",
     "output_type": "stream",
     "text": [
      "127 127 \n",
      "\n"
     ]
    },
    {
     "name": "stderr",
     "output_type": "stream",
     "text": [
      "\r",
      "Classifying:   8%|█████                                                           | 128/1615 [08:53<2:01:13,  4.89s/it]"
     ]
    },
    {
     "name": "stdout",
     "output_type": "stream",
     "text": [
      "128 128 \n",
      "\n"
     ]
    },
    {
     "name": "stderr",
     "output_type": "stream",
     "text": [
      "\r",
      "Classifying:   8%|█████                                                           | 129/1615 [08:58<2:00:16,  4.86s/it]"
     ]
    },
    {
     "name": "stdout",
     "output_type": "stream",
     "text": [
      "129 129 \n",
      "\n"
     ]
    },
    {
     "name": "stderr",
     "output_type": "stream",
     "text": [
      "\r",
      "Classifying:   8%|█████▏                                                          | 130/1615 [09:02<1:54:59,  4.65s/it]"
     ]
    },
    {
     "name": "stdout",
     "output_type": "stream",
     "text": [
      "130 130 \n",
      "\n"
     ]
    },
    {
     "name": "stderr",
     "output_type": "stream",
     "text": [
      "\r",
      "Classifying:   8%|█████▏                                                          | 131/1615 [09:05<1:47:06,  4.33s/it]"
     ]
    },
    {
     "name": "stdout",
     "output_type": "stream",
     "text": [
      "131 131 \n",
      "\n"
     ]
    },
    {
     "name": "stderr",
     "output_type": "stream",
     "text": [
      "\r",
      "Classifying:   8%|█████▏                                                          | 132/1615 [09:09<1:45:06,  4.25s/it]"
     ]
    },
    {
     "name": "stdout",
     "output_type": "stream",
     "text": [
      "132 132 \n",
      "\n"
     ]
    }
   ],
   "source": [
    "for abstract in tqdm(df['Research Keywords'], desc=\"Classifying\"):\n",
    "    try:\n",
    "        result = classifier(abstract, candidate_labels)\n",
    "        results_classification.append(result)\n",
    "        max_score_index = result['scores'].index(max(result['scores']))\n",
    "        predicted_labels.append(result['labels'][max_score_index])\n",
    "        print(len(results_classification),len(predicted_labels),'\\n')\n",
    "    \n",
    "    except Exception as e:\n",
    "        print(f\"Error processing abstract: {e}\")\n",
    "        results_classification.append(None)\n",
    "        predicted_labels.append(None)\n",
    "        print(len(results_classification),len(predicted_labels),'\\n')"
   ]
  },
  {
   "cell_type": "code",
   "execution_count": null,
   "id": "8a8c4826",
   "metadata": {},
   "outputs": [],
   "source": [
    "for label in candidate_labels:\n",
    "    df[change_labels(label)] = [result['scores'][result['labels'].index(label)] if result and label in result['labels'] else 0 for result in results_classification]"
   ]
  },
  {
   "cell_type": "code",
   "execution_count": null,
   "id": "e78c4edf",
   "metadata": {},
   "outputs": [],
   "source": [
    "df['Predicted Label'] = [change_labels(label) for label in predicted_labels] \n"
   ]
  },
  {
   "cell_type": "markdown",
   "id": "c329275a",
   "metadata": {},
   "source": [
    "### Saving on output path"
   ]
  },
  {
   "cell_type": "code",
   "execution_count": null,
   "id": "3e71f3dd",
   "metadata": {},
   "outputs": [],
   "source": [
    "output_file_path = f'C:/Users/sdany/Desktop/pilot project/output_50jup.xlsx'\n",
    "df.to_excel(output_file_path, index=False)\n",
    "\n",
    "print(f\"Output file path: {output_file_path}\")"
   ]
  },
  {
   "cell_type": "markdown",
   "id": "d4a48f87",
   "metadata": {},
   "source": [
    "### Open Excel file"
   ]
  },
  {
   "cell_type": "code",
   "execution_count": null,
   "id": "8c52799d",
   "metadata": {},
   "outputs": [],
   "source": [
    "if os.name == 'nt':\n",
    "    os.startfile(output_file_path)\n",
    "elif os.name == 'posix':\n",
    "    subprocess.call(['open', output_file_path])\n",
    "else:\n",
    "    subprocess.call(['xdg-open', output_file_path])"
   ]
  },
  {
   "cell_type": "code",
   "execution_count": null,
   "id": "7a90b56f",
   "metadata": {},
   "outputs": [],
   "source": [
    "if os.name == 'nt':\n",
    "    os.startfile(excel_file_path)\n",
    "elif os.name == 'posix':\n",
    "    subprocess.call(['open', excel_file_path])\n",
    "else:\n",
    "    subprocess.call(['xdg-open', excel_file_path])"
   ]
  }
 ],
 "metadata": {
  "kernelspec": {
   "display_name": "Python 3 (ipykernel)",
   "language": "python",
   "name": "python3"
  },
  "language_info": {
   "codemirror_mode": {
    "name": "ipython",
    "version": 3
   },
   "file_extension": ".py",
   "mimetype": "text/x-python",
   "name": "python",
   "nbconvert_exporter": "python",
   "pygments_lexer": "ipython3",
   "version": "3.11.1"
  }
 },
 "nbformat": 4,
 "nbformat_minor": 5
}
